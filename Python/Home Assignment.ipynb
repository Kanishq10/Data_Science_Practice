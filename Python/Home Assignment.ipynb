{
 "cells": [
  {
   "cell_type": "markdown",
   "metadata": {},
   "source": [
    "# Python Take-home Exercise"
   ]
  },
  {
   "cell_type": "markdown",
   "metadata": {},
   "source": [
    "### 1. Write a program using list comprehension to find primes in range 2 to 100"
   ]
  },
  {
   "cell_type": "code",
   "execution_count": 2,
   "metadata": {},
   "outputs": [
    {
     "name": "stdout",
     "output_type": "stream",
     "text": [
      "[2, 3, 4, 5, 7, 11, 13, 17, 19, 23, 29, 31, 37, 41, 43, 47, 53, 59, 61, 67, 71, 73, 79, 83, 89, 97]\n"
     ]
    }
   ],
   "source": [
    "def is_prime(n):\n",
    "    if n <= 1:\n",
    "        return False\n",
    "    for i in range(2, n//2):\n",
    "        if n % i == 0:\n",
    "            return False\n",
    "    return True\n",
    "\n",
    "primes = [i for i in range(2, 101) if is_prime(i)]\n",
    "print(primes)"
   ]
  },
  {
   "cell_type": "markdown",
   "metadata": {},
   "source": [
    "### 2. Write a function to reverse a string"
   ]
  },
  {
   "cell_type": "markdown",
   "metadata": {},
   "source": [
    "**String = 'Data Science'**"
   ]
  },
  {
   "cell_type": "code",
   "execution_count": 3,
   "metadata": {},
   "outputs": [
    {
     "data": {
      "text/plain": [
       "'ecneicS ataD'"
      ]
     },
     "execution_count": 3,
     "metadata": {},
     "output_type": "execute_result"
    }
   ],
   "source": [
    "String = 'Data Science'\n",
    "String[::-1]"
   ]
  },
  {
   "cell_type": "markdown",
   "metadata": {},
   "source": [
    "### 3. Write a program to extract the words from the given list which have their first character in uppercase"
   ]
  },
  {
   "cell_type": "markdown",
   "metadata": {},
   "source": [
    "**Days = ['Monday', 'tuesday','friday', 'Sunday', 'Saturday']**\n",
    "\n",
    "**Output: ['Monday', 'Sunday', 'Saturday']**"
   ]
  },
  {
   "cell_type": "code",
   "execution_count": 7,
   "metadata": {},
   "outputs": [
    {
     "data": {
      "text/plain": [
       "['Monday', 'Sunday', 'Saturday']"
      ]
     },
     "execution_count": 7,
     "metadata": {},
     "output_type": "execute_result"
    }
   ],
   "source": [
    "Days = ['Monday', 'tuesday','friday', 'Sunday', 'Saturday']\n",
    "[x for x in Days if x.istitle()==True ]"
   ]
  },
  {
   "cell_type": "markdown",
   "metadata": {},
   "source": [
    "### 4. Write a program to extract the year part from the dates in the given list"
   ]
  },
  {
   "cell_type": "markdown",
   "metadata": {},
   "source": [
    "**Batch = ['15-06-1997','15-06-2011','15-06-1993','15-06-2020']**\n",
    "\n",
    "**Output: ['1997','2011','1993','2020']**"
   ]
  },
  {
   "cell_type": "code",
   "execution_count": 8,
   "metadata": {},
   "outputs": [
    {
     "data": {
      "text/plain": [
       "['1997', '2011', '1993', '2020']"
      ]
     },
     "execution_count": 8,
     "metadata": {},
     "output_type": "execute_result"
    }
   ],
   "source": [
    "Batch = ['15-06-1997','15-06-2011','15-06-1993','15-06-2020']\n",
    "[x[-4:] for x in Batch]"
   ]
  },
  {
   "cell_type": "markdown",
   "metadata": {},
   "source": [
    "### 5. Write a program swap the keys to values and values to keys of the given dictionary"
   ]
  },
  {
   "cell_type": "markdown",
   "metadata": {},
   "source": [
    "**Module = {'Data Science':1,'Machine Learning':2, 'SQL':3, 'Big Data':4}**\n",
    "\n",
    "**Output: {1:'Data Science',2:'Machine Learning', 3:'SQL', 4:'Big Data'}**\n"
   ]
  },
  {
   "cell_type": "code",
   "execution_count": 9,
   "metadata": {},
   "outputs": [
    {
     "name": "stdout",
     "output_type": "stream",
     "text": [
      "{1: 'Data Science', 2: 'Machine Learning', 3: 'SQL', 4: 'Big Data'}\n"
     ]
    }
   ],
   "source": [
    "Module = {'Data Science':1,'Machine Learning':2, 'SQL':3, 'Big Data':4}\n",
    "new_dict = dict([(value, key) for key, value in Module.items()])\n",
    "print(new_dict)"
   ]
  },
  {
   "cell_type": "markdown",
   "metadata": {},
   "source": [
    "### 6. Wrote a program to calculate the cumulative average of the given list using accumulate() and lambda function"
   ]
  },
  {
   "cell_type": "markdown",
   "metadata": {},
   "source": [
    "**Input list: [5,2,1,4,6]**"
   ]
  },
  {
   "cell_type": "code",
   "execution_count": 10,
   "metadata": {},
   "outputs": [
    {
     "name": "stdout",
     "output_type": "stream",
     "text": [
      "5\n",
      "3.5\n",
      "2.25\n",
      "3.125\n",
      "4.5625\n"
     ]
    }
   ],
   "source": [
    "from itertools import accumulate\n",
    "result = accumulate([5,2,1,4,6], lambda x, y: (x + y) / 2)\n",
    "\n",
    "for res in result:              \n",
    "    print(res)"
   ]
  },
  {
   "cell_type": "markdown",
   "metadata": {},
   "source": [
    "### 7. Write a program to count the number of elements in the string (given by the user) that are not present in the 'my_string'. Do not count the white spaces\n",
    "\n",
    "Use Recursion"
   ]
  },
  {
   "cell_type": "markdown",
   "metadata": {},
   "source": [
    "**my_string = 'Data Science'**"
   ]
  },
  {
   "cell_type": "code",
   "execution_count": 11,
   "metadata": {},
   "outputs": [
    {
     "data": {
      "text/plain": [
       "1"
      ]
     },
     "execution_count": 11,
     "metadata": {},
     "output_type": "execute_result"
    }
   ],
   "source": [
    "string = 'Data Science'                     \n",
    "strUser = input('Enter a string: ')    \n",
    "\n",
    "def reccFilterFunc(str_inp):\n",
    "    if str_inp == '':                  \n",
    "        return 0\n",
    "    if str_inp[0].lower() not in string and str_inp[0].isalpha():    \n",
    "        return 1 + reccFilterFunc(str_inp[1:])                         \n",
    "    else:\n",
    "        return reccFilterFunc(str_inp[1:])                                 \n",
    "reccFilterFunc(strUser)"
   ]
  },
  {
   "cell_type": "markdown",
   "metadata": {},
   "source": [
    "### 8.  Define a function to check whether a number is in a range (1000,10000) or not"
   ]
  },
  {
   "cell_type": "code",
   "execution_count": 15,
   "metadata": {},
   "outputs": [
    {
     "data": {
      "text/plain": [
       "True"
      ]
     },
     "execution_count": 15,
     "metadata": {},
     "output_type": "execute_result"
    }
   ],
   "source": [
    "def isInRange(x):\n",
    "    if x in range(1000,10000):\n",
    "        return True\n",
    "    return False\n",
    "\n",
    "n=int(input())\n",
    "isInRange(n)"
   ]
  },
  {
   "cell_type": "markdown",
   "metadata": {},
   "source": [
    "### 9. Write a program to print pascal triangle upto 6 steps (using list)"
   ]
  },
  {
   "cell_type": "code",
   "execution_count": 16,
   "metadata": {},
   "outputs": [
    {
     "name": "stdout",
     "output_type": "stream",
     "text": [
      "[1]\n",
      "[1, 1]\n",
      "[1, 2, 1]\n",
      "[1, 3, 3, 1]\n",
      "[1, 4, 6, 4, 1]\n",
      "[1, 5, 10, 10, 5, 1]\n"
     ]
    }
   ],
   "source": [
    "list=[1]\n",
    "for i in range(6):\n",
    "    print(list)\n",
    "    newlist=[]\n",
    "    newlist.append(list[0])\n",
    "    for i in range(len(list)-1):\n",
    "        newlist.append(list[i]+list[i+1])\n",
    "    newlist.append(list[-1])\n",
    "    list=newlist"
   ]
  },
  {
   "cell_type": "markdown",
   "metadata": {},
   "source": [
    "### 10. Write a program to calculate the sum of all elements in the list"
   ]
  },
  {
   "cell_type": "markdown",
   "metadata": {},
   "source": [
    "**test_score = [10, 32, 23, 14, 25]**"
   ]
  },
  {
   "cell_type": "code",
   "execution_count": 17,
   "metadata": {},
   "outputs": [
    {
     "name": "stdout",
     "output_type": "stream",
     "text": [
      "TOTAL MARKS =  104\n"
     ]
    }
   ],
   "source": [
    "test_score = [10, 32, 23, 14, 25]\n",
    "total = sum(test_score)\n",
    "print(\"TOTAL MARKS = \", total)"
   ]
  },
  {
   "cell_type": "markdown",
   "metadata": {},
   "source": [
    "### 11. Find the minimum value along each of the rows"
   ]
  },
  {
   "cell_type": "markdown",
   "metadata": {},
   "source": [
    "Create a 2D Numpy array from list of lists<br>\n",
    "\n",
    "Score = np.array([[210, 402, 383],<br>\n",
    "                 [140, 375, 106], <br>\n",
    "                 [140, 125, 217], <br>\n",
    "                 [292, 240, 295]])"
   ]
  },
  {
   "cell_type": "code",
   "execution_count": 21,
   "metadata": {},
   "outputs": [
    {
     "data": {
      "text/plain": [
       "array([[210, 402, 383],\n",
       "       [140, 375, 106],\n",
       "       [140, 125, 217],\n",
       "       [292, 240, 295]])"
      ]
     },
     "execution_count": 21,
     "metadata": {},
     "output_type": "execute_result"
    }
   ],
   "source": [
    "import numpy as np\n",
    "Score = np.array([[210, 402, 383],\n",
    "[140, 375, 106],\n",
    "[140, 125, 217],\n",
    "[292, 240, 295]])\n",
    "\n",
    "Score"
   ]
  },
  {
   "cell_type": "code",
   "execution_count": 24,
   "metadata": {},
   "outputs": [
    {
     "data": {
      "text/plain": [
       "array([210, 106, 125, 240])"
      ]
     },
     "execution_count": 24,
     "metadata": {},
     "output_type": "execute_result"
    }
   ],
   "source": [
    "np.amin(Score,axis=1)"
   ]
  },
  {
   "cell_type": "markdown",
   "metadata": {},
   "source": [
    "### 12.  Replace all even numbers in the array with -1"
   ]
  },
  {
   "cell_type": "markdown",
   "metadata": {},
   "source": [
    "Use the array given below\n",
    "\n",
    "    num_array = np.array([0, 21, 32, 13, 44, 45, 26, 28, 38, 34, 65, 48, 76])"
   ]
  },
  {
   "cell_type": "code",
   "execution_count": 23,
   "metadata": {},
   "outputs": [
    {
     "data": {
      "text/plain": [
       "array([ 0, 21, 32, 13, 44, 45, 26, 28, 38, 34, 65, 48, 76])"
      ]
     },
     "execution_count": 23,
     "metadata": {},
     "output_type": "execute_result"
    }
   ],
   "source": [
    "arr = np.array([0, 21, 32, 13, 44, 45, 26, 28, 38, 34, 65, 48, 76])\n",
    "arr"
   ]
  },
  {
   "cell_type": "code",
   "execution_count": 25,
   "metadata": {},
   "outputs": [
    {
     "data": {
      "text/plain": [
       "array([-1, 21, -1, 13, -1, 45, -1, -1, -1, -1, 65, -1, -1])"
      ]
     },
     "execution_count": 25,
     "metadata": {},
     "output_type": "execute_result"
    }
   ],
   "source": [
    "num_array[num_array%2==0]=-1\n",
    "num_array"
   ]
  },
  {
   "cell_type": "markdown",
   "metadata": {},
   "source": [
    "### 13. Create a pandas series having values 4, 8, -1, 2, NAN and their index as d, b, a, c, e"
   ]
  },
  {
   "cell_type": "code",
   "execution_count": 28,
   "metadata": {},
   "outputs": [
    {
     "data": {
      "text/plain": [
       "d    4.0\n",
       "b    8.0\n",
       "a   -1.0\n",
       "c    2.0\n",
       "e    NaN\n",
       "dtype: float64"
      ]
     },
     "execution_count": 28,
     "metadata": {},
     "output_type": "execute_result"
    }
   ],
   "source": [
    "import pandas as pd\n",
    "series=pd.Series([4,8,-1,2,np.nan],index=['d','b','a','c','e'])\n",
    "series"
   ]
  },
  {
   "cell_type": "markdown",
   "metadata": {},
   "source": [
    "### 14. Add a new column 'Height' in the give dataframe"
   ]
  },
  {
   "cell_type": "markdown",
   "metadata": {},
   "source": [
    "<table>\n",
    "  <tr>\n",
    "  <th>Name </th>\n",
    "  <th>Weight</th>\n",
    "  </tr>\n",
    "  <tr>\n",
    "  <td>Mia</td>\n",
    "  <td>55</td>    \n",
    "  </tr>\n",
    "  <tr>\n",
    "  <td>Joy</td>\n",
    "  <td>66</td> \n",
    "  </tr>\n",
    "  <tr>\n",
    "  <td>Karan</td>\n",
    "  <td>80</td> \n",
    "  </tr>\n",
    "  <tr>\n",
    "  <td>George</td>\n",
    "  <td>67</td> \n",
    "</tr>\n",
    "</table>\n",
    "  "
   ]
  },
  {
   "cell_type": "markdown",
   "metadata": {},
   "source": [
    "New Column:\n",
    "<table>\n",
    "  <tr>\n",
    "  <th>Height</th>   \n",
    "  </tr>\n",
    "  <tr>\n",
    "  <td>5.5</td>\n",
    "  </tr>\n",
    "  <tr>\n",
    "  <td>6.7</td>\n",
    "  </tr>\n",
    "  <tr>\n",
    "  <td>5.8</td>\n",
    "  </tr>\n",
    "  <tr>\n",
    "  <td>6</td>\n",
    "</tr>\n",
    "</table>"
   ]
  },
  {
   "cell_type": "code",
   "execution_count": 29,
   "metadata": {},
   "outputs": [
    {
     "data": {
      "text/html": [
       "<div>\n",
       "<style scoped>\n",
       "    .dataframe tbody tr th:only-of-type {\n",
       "        vertical-align: middle;\n",
       "    }\n",
       "\n",
       "    .dataframe tbody tr th {\n",
       "        vertical-align: top;\n",
       "    }\n",
       "\n",
       "    .dataframe thead th {\n",
       "        text-align: right;\n",
       "    }\n",
       "</style>\n",
       "<table border=\"1\" class=\"dataframe\">\n",
       "  <thead>\n",
       "    <tr style=\"text-align: right;\">\n",
       "      <th></th>\n",
       "      <th>Name</th>\n",
       "      <th>Weight</th>\n",
       "    </tr>\n",
       "  </thead>\n",
       "  <tbody>\n",
       "    <tr>\n",
       "      <th>0</th>\n",
       "      <td>Mia</td>\n",
       "      <td>55</td>\n",
       "    </tr>\n",
       "    <tr>\n",
       "      <th>1</th>\n",
       "      <td>Joy</td>\n",
       "      <td>66</td>\n",
       "    </tr>\n",
       "    <tr>\n",
       "      <th>2</th>\n",
       "      <td>Karan</td>\n",
       "      <td>80</td>\n",
       "    </tr>\n",
       "    <tr>\n",
       "      <th>3</th>\n",
       "      <td>George</td>\n",
       "      <td>67</td>\n",
       "    </tr>\n",
       "  </tbody>\n",
       "</table>\n",
       "</div>"
      ],
      "text/plain": [
       "     Name  Weight\n",
       "0     Mia      55\n",
       "1     Joy      66\n",
       "2   Karan      80\n",
       "3  George      67"
      ]
     },
     "execution_count": 29,
     "metadata": {},
     "output_type": "execute_result"
    }
   ],
   "source": [
    "Frame=[('Mia',55),\n",
    "     ('Joy',66),\n",
    "     ('Karan',80),\n",
    "     ('George',67)]\n",
    "Student=pd.DataFrame(Frame,columns=['Name','Weight'])\n",
    "pd.DataFrame(Student)"
   ]
  },
  {
   "cell_type": "code",
   "execution_count": 30,
   "metadata": {},
   "outputs": [
    {
     "data": {
      "text/html": [
       "<div>\n",
       "<style scoped>\n",
       "    .dataframe tbody tr th:only-of-type {\n",
       "        vertical-align: middle;\n",
       "    }\n",
       "\n",
       "    .dataframe tbody tr th {\n",
       "        vertical-align: top;\n",
       "    }\n",
       "\n",
       "    .dataframe thead th {\n",
       "        text-align: right;\n",
       "    }\n",
       "</style>\n",
       "<table border=\"1\" class=\"dataframe\">\n",
       "  <thead>\n",
       "    <tr style=\"text-align: right;\">\n",
       "      <th></th>\n",
       "      <th>Name</th>\n",
       "      <th>Weight</th>\n",
       "      <th>Height</th>\n",
       "    </tr>\n",
       "  </thead>\n",
       "  <tbody>\n",
       "    <tr>\n",
       "      <th>0</th>\n",
       "      <td>Mia</td>\n",
       "      <td>55</td>\n",
       "      <td>5.5</td>\n",
       "    </tr>\n",
       "    <tr>\n",
       "      <th>1</th>\n",
       "      <td>Joy</td>\n",
       "      <td>66</td>\n",
       "      <td>6.7</td>\n",
       "    </tr>\n",
       "    <tr>\n",
       "      <th>2</th>\n",
       "      <td>Karan</td>\n",
       "      <td>80</td>\n",
       "      <td>5.8</td>\n",
       "    </tr>\n",
       "    <tr>\n",
       "      <th>3</th>\n",
       "      <td>George</td>\n",
       "      <td>67</td>\n",
       "      <td>6.0</td>\n",
       "    </tr>\n",
       "  </tbody>\n",
       "</table>\n",
       "</div>"
      ],
      "text/plain": [
       "     Name  Weight  Height\n",
       "0     Mia      55     5.5\n",
       "1     Joy      66     6.7\n",
       "2   Karan      80     5.8\n",
       "3  George      67     6.0"
      ]
     },
     "execution_count": 30,
     "metadata": {},
     "output_type": "execute_result"
    }
   ],
   "source": [
    "Student['Height'] = [5.5, 6.7, 5.8, 6]\n",
    "pd.DataFrame(Student)"
   ]
  },
  {
   "cell_type": "markdown",
   "metadata": {},
   "source": [
    "### 15. Use the data created in question 14, to do the following:\n",
    "Access column 'Name' by specifying the column number<br>\n",
    "Access column 'Height' by specifying the column name"
   ]
  },
  {
   "cell_type": "code",
   "execution_count": 36,
   "metadata": {},
   "outputs": [
    {
     "data": {
      "text/plain": [
       "0       Mia\n",
       "1       Joy\n",
       "2     Karan\n",
       "3    George\n",
       "Name: Name, dtype: object"
      ]
     },
     "execution_count": 36,
     "metadata": {},
     "output_type": "execute_result"
    }
   ],
   "source": [
    "Student.iloc[0:,0]"
   ]
  },
  {
   "cell_type": "code",
   "execution_count": 37,
   "metadata": {},
   "outputs": [
    {
     "data": {
      "text/plain": [
       "0    5.5\n",
       "1    6.7\n",
       "2    5.8\n",
       "3    6.0\n",
       "Name: Height, dtype: float64"
      ]
     },
     "execution_count": 37,
     "metadata": {},
     "output_type": "execute_result"
    }
   ],
   "source": [
    "Student['Height']"
   ]
  },
  {
   "cell_type": "markdown",
   "metadata": {},
   "source": [
    "### 16. Find duplicate rows based on the column 'Order_ID'"
   ]
  },
  {
   "cell_type": "markdown",
   "metadata": {},
   "source": [
    "**Use the dataframe given below:**\n",
    "   \n",
    "<table>\n",
    "<tr>\n",
    "<th>Order_ID</th>\n",
    "<th>Product</th>\n",
    "<th>City</th>\n",
    "</tr>\n",
    "<tr>\n",
    "<td>YZ1100</td>\n",
    "<td>Cell Phone</td>\n",
    "<td>Sydeny</td>\n",
    "</tr>\n",
    "<tr>\n",
    "<td>RW1200</td>\n",
    "<td>Watch</td>\n",
    "<td>Chicago</td>\n",
    "</tr>\n",
    "<tr>\n",
    "<td>YZ1100</td>\n",
    "<td>Cell Phone</td>\n",
    "<td>New York</td>\n",
    "</tr>\n",
    "<tr>\n",
    "<td>TY1400</td>\n",
    "<td>Charger</td>\n",
    "<td>Chicago</td>\n",
    "</tr>\n",
    "<tr>\n",
    "<td>VB1500</td>\n",
    "<td>Watch</td>\n",
    "<td>Chicago</td>\n",
    "</tr>\n",
    "<tr>\n",
    "<td>TY1400</td>\n",
    "<td>Headphones</td>\n",
    "<td>Texas</td>\n",
    "</tr>\n",
    "<tr>\n",
    "<td>MW1600</td>\n",
    "<td>Charger</td>\n",
    "<td>New York</td>\n",
    "</tr>\n",
    "<tr>\n",
    "<td>CN1600</td>\n",
    "<td>Headphones</td>\n",
    "<td>Chicago</td>\n",
    "</tr>\n",
    "   \n",
    "</table>"
   ]
  },
  {
   "cell_type": "code",
   "execution_count": 38,
   "metadata": {},
   "outputs": [
    {
     "data": {
      "text/html": [
       "<div>\n",
       "<style scoped>\n",
       "    .dataframe tbody tr th:only-of-type {\n",
       "        vertical-align: middle;\n",
       "    }\n",
       "\n",
       "    .dataframe tbody tr th {\n",
       "        vertical-align: top;\n",
       "    }\n",
       "\n",
       "    .dataframe thead th {\n",
       "        text-align: right;\n",
       "    }\n",
       "</style>\n",
       "<table border=\"1\" class=\"dataframe\">\n",
       "  <thead>\n",
       "    <tr style=\"text-align: right;\">\n",
       "      <th></th>\n",
       "      <th>Order_ID</th>\n",
       "      <th>Product</th>\n",
       "      <th>City</th>\n",
       "    </tr>\n",
       "  </thead>\n",
       "  <tbody>\n",
       "    <tr>\n",
       "      <th>0</th>\n",
       "      <td>YZ1100</td>\n",
       "      <td>Cell Phone</td>\n",
       "      <td>Sydeny</td>\n",
       "    </tr>\n",
       "    <tr>\n",
       "      <th>1</th>\n",
       "      <td>RW1200</td>\n",
       "      <td>Watch</td>\n",
       "      <td>Chicago</td>\n",
       "    </tr>\n",
       "    <tr>\n",
       "      <th>2</th>\n",
       "      <td>YZ1100</td>\n",
       "      <td>Cell Phone</td>\n",
       "      <td>New York</td>\n",
       "    </tr>\n",
       "    <tr>\n",
       "      <th>3</th>\n",
       "      <td>TY1400</td>\n",
       "      <td>Charger</td>\n",
       "      <td>Chicago</td>\n",
       "    </tr>\n",
       "    <tr>\n",
       "      <th>4</th>\n",
       "      <td>VB1500</td>\n",
       "      <td>Watch</td>\n",
       "      <td>Chicago</td>\n",
       "    </tr>\n",
       "    <tr>\n",
       "      <th>5</th>\n",
       "      <td>TY1400</td>\n",
       "      <td>Headphones</td>\n",
       "      <td>Texas</td>\n",
       "    </tr>\n",
       "    <tr>\n",
       "      <th>6</th>\n",
       "      <td>MW1600</td>\n",
       "      <td>Charger</td>\n",
       "      <td>New York</td>\n",
       "    </tr>\n",
       "    <tr>\n",
       "      <th>7</th>\n",
       "      <td>CN1600</td>\n",
       "      <td>Headphones</td>\n",
       "      <td>Chicago</td>\n",
       "    </tr>\n",
       "  </tbody>\n",
       "</table>\n",
       "</div>"
      ],
      "text/plain": [
       "  Order_ID     Product      City\n",
       "0   YZ1100  Cell Phone    Sydeny\n",
       "1   RW1200       Watch   Chicago\n",
       "2   YZ1100  Cell Phone  New York\n",
       "3   TY1400     Charger   Chicago\n",
       "4   VB1500       Watch   Chicago\n",
       "5   TY1400  Headphones     Texas\n",
       "6   MW1600     Charger  New York\n",
       "7   CN1600  Headphones   Chicago"
      ]
     },
     "execution_count": 38,
     "metadata": {},
     "output_type": "execute_result"
    }
   ],
   "source": [
    "product = [('YZ1100', 'Cell Phone', 'Sydeny'),\n",
    "('RW1200', 'Watch', 'Chicago'),\n",
    "('YZ1100', 'Cell Phone', 'New York'),\n",
    "('TY1400', 'Charger', 'Chicago'),\n",
    "('VB1500', 'Watch', 'Chicago'),\n",
    "('TY1400', 'Headphones', 'Texas'),\n",
    "('MW1600', 'Charger', 'New York'),\n",
    "('CN1600', 'Headphones', 'Chicago')]\n",
    "products= pd.DataFrame(product, columns=['Order_ID', 'Product', 'City'])\n",
    "products"
   ]
  },
  {
   "cell_type": "code",
   "execution_count": 39,
   "metadata": {},
   "outputs": [
    {
     "data": {
      "text/html": [
       "<div>\n",
       "<style scoped>\n",
       "    .dataframe tbody tr th:only-of-type {\n",
       "        vertical-align: middle;\n",
       "    }\n",
       "\n",
       "    .dataframe tbody tr th {\n",
       "        vertical-align: top;\n",
       "    }\n",
       "\n",
       "    .dataframe thead th {\n",
       "        text-align: right;\n",
       "    }\n",
       "</style>\n",
       "<table border=\"1\" class=\"dataframe\">\n",
       "  <thead>\n",
       "    <tr style=\"text-align: right;\">\n",
       "      <th></th>\n",
       "      <th>Order_ID</th>\n",
       "      <th>Product</th>\n",
       "      <th>City</th>\n",
       "    </tr>\n",
       "  </thead>\n",
       "  <tbody>\n",
       "    <tr>\n",
       "      <th>2</th>\n",
       "      <td>YZ1100</td>\n",
       "      <td>Cell Phone</td>\n",
       "      <td>New York</td>\n",
       "    </tr>\n",
       "    <tr>\n",
       "      <th>5</th>\n",
       "      <td>TY1400</td>\n",
       "      <td>Headphones</td>\n",
       "      <td>Texas</td>\n",
       "    </tr>\n",
       "  </tbody>\n",
       "</table>\n",
       "</div>"
      ],
      "text/plain": [
       "  Order_ID     Product      City\n",
       "2   YZ1100  Cell Phone  New York\n",
       "5   TY1400  Headphones     Texas"
      ]
     },
     "execution_count": 39,
     "metadata": {},
     "output_type": "execute_result"
    }
   ],
   "source": [
    "duplicate=products[products.duplicated(['Order_ID'])]\n",
    "duplicate"
   ]
  },
  {
   "cell_type": "markdown",
   "metadata": {},
   "source": [
    "### 17. Use the data created in question 16, to do the following:\n",
    "In column 'Product', replace all the 'Cell Phone' values with 'Mobile' using numpy.where\n"
   ]
  },
  {
   "cell_type": "code",
   "execution_count": 40,
   "metadata": {},
   "outputs": [
    {
     "data": {
      "text/html": [
       "<div>\n",
       "<style scoped>\n",
       "    .dataframe tbody tr th:only-of-type {\n",
       "        vertical-align: middle;\n",
       "    }\n",
       "\n",
       "    .dataframe tbody tr th {\n",
       "        vertical-align: top;\n",
       "    }\n",
       "\n",
       "    .dataframe thead th {\n",
       "        text-align: right;\n",
       "    }\n",
       "</style>\n",
       "<table border=\"1\" class=\"dataframe\">\n",
       "  <thead>\n",
       "    <tr style=\"text-align: right;\">\n",
       "      <th></th>\n",
       "      <th>Order_ID</th>\n",
       "      <th>Product</th>\n",
       "      <th>City</th>\n",
       "    </tr>\n",
       "  </thead>\n",
       "  <tbody>\n",
       "    <tr>\n",
       "      <th>0</th>\n",
       "      <td>YZ1100</td>\n",
       "      <td>Mobile</td>\n",
       "      <td>Sydeny</td>\n",
       "    </tr>\n",
       "    <tr>\n",
       "      <th>1</th>\n",
       "      <td>RW1200</td>\n",
       "      <td>Watch</td>\n",
       "      <td>Chicago</td>\n",
       "    </tr>\n",
       "    <tr>\n",
       "      <th>2</th>\n",
       "      <td>YZ1100</td>\n",
       "      <td>Mobile</td>\n",
       "      <td>New York</td>\n",
       "    </tr>\n",
       "    <tr>\n",
       "      <th>3</th>\n",
       "      <td>TY1400</td>\n",
       "      <td>Charger</td>\n",
       "      <td>Chicago</td>\n",
       "    </tr>\n",
       "    <tr>\n",
       "      <th>4</th>\n",
       "      <td>VB1500</td>\n",
       "      <td>Watch</td>\n",
       "      <td>Chicago</td>\n",
       "    </tr>\n",
       "    <tr>\n",
       "      <th>5</th>\n",
       "      <td>TY1400</td>\n",
       "      <td>Headphones</td>\n",
       "      <td>Texas</td>\n",
       "    </tr>\n",
       "    <tr>\n",
       "      <th>6</th>\n",
       "      <td>MW1600</td>\n",
       "      <td>Charger</td>\n",
       "      <td>New York</td>\n",
       "    </tr>\n",
       "    <tr>\n",
       "      <th>7</th>\n",
       "      <td>CN1600</td>\n",
       "      <td>Headphones</td>\n",
       "      <td>Chicago</td>\n",
       "    </tr>\n",
       "  </tbody>\n",
       "</table>\n",
       "</div>"
      ],
      "text/plain": [
       "  Order_ID     Product      City\n",
       "0   YZ1100      Mobile    Sydeny\n",
       "1   RW1200       Watch   Chicago\n",
       "2   YZ1100      Mobile  New York\n",
       "3   TY1400     Charger   Chicago\n",
       "4   VB1500       Watch   Chicago\n",
       "5   TY1400  Headphones     Texas\n",
       "6   MW1600     Charger  New York\n",
       "7   CN1600  Headphones   Chicago"
      ]
     },
     "execution_count": 40,
     "metadata": {},
     "output_type": "execute_result"
    }
   ],
   "source": [
    "import numpy as np\n",
    "products['Product'] = np.where((products.Product == 'Cell Phone'),'Mobile',products.Product)\n",
    "products"
   ]
  },
  {
   "cell_type": "markdown",
   "metadata": {},
   "source": [
    "### 18. Perform right join to combine values based on the 'ID' in the two dataframes"
   ]
  },
  {
   "cell_type": "markdown",
   "metadata": {},
   "source": [
    "**Use the dataframe given below:**\n",
    "   \n",
    "<table>\n",
    "    <tr>\n",
    "        <th>ID</th>\n",
    "        <th>Candidate_Name</th>\n",
    "        <th>Subject</th>\n",
    "    </tr>\n",
    "    <tr>\n",
    "        <td>101</td>\n",
    "        <td>Alex</td>\n",
    "        <td>History</td>\n",
    "    </tr>\n",
    "    <tr>\n",
    "        <td>102</td>\n",
    "        <td>Amy</td>\n",
    "        <td>English</td>\n",
    "    </tr>\n",
    "    <tr>\n",
    "        <td>103</td>\n",
    "        <td>Allen</td>\n",
    "        <td>Geography</td>\n",
    "    </tr>\n",
    "    <tr>\n",
    "        <td>104</td>\n",
    "        <td>Alice</td>\n",
    "        <td>German</td>\n",
    "    </tr>\n",
    "        <td>105</td>\n",
    "        <td>James</td>\n",
    "        <td>History</td>\n",
    "    </tr>\n",
    "    <tr>\n",
    "        <td>106</td>\n",
    "        <td>Sara</td>\n",
    "        <td>German</td>\n",
    "    </tr>\n",
    "    <tr>\n",
    "        <td>107</td>\n",
    "        <td>Mia</td>\n",
    "        <td>English</td>\n",
    "    </tr>  \n",
    "</table>\n",
    "<br>\n",
    "\n",
    "\n",
    "\n",
    "<table>\n",
    "    <tr>\n",
    "        <th>ID</th>\n",
    "        <th>City</th>\n",
    "        <th>Subject_Score</th>\n",
    "    </tr>\n",
    "    <tr>\n",
    "        <td>101</td>\n",
    "        <td>Delhi</td>\n",
    "        <td>89</td>\n",
    "    </tr>\n",
    "    <tr>\n",
    "        <td>102</td>\n",
    "        <td>Mumbai</td>\n",
    "        <td>78</td>\n",
    "    </tr>\n",
    "    <tr>\n",
    "        <td>103</td>\n",
    "        <td>Delhi</td>\n",
    "        <td>77</td>\n",
    "    </tr>\n",
    "    <tr>\n",
    "        <td>104</td>\n",
    "        <td>Chennai</td>\n",
    "        <td>87</td>\n",
    "    </tr>\n",
    "    <tr>\n",
    "        <td>105</td>\n",
    "        <td>Hyderabad</td>\n",
    "        <td>87</td>\n",
    "    </tr>\n",
    "        <td>108</td>\n",
    "        <td>Delhi</td>\n",
    "        <td>84</td>\n",
    "\n",
    "    </tr>\n",
    "</table>"
   ]
  },
  {
   "cell_type": "code",
   "execution_count": 41,
   "metadata": {},
   "outputs": [],
   "source": [
    "first = pd.DataFrame({\n",
    "'ID':[101,102,103,104,105,106,107],\n",
    "'Candidate_Name': ['Alex', 'Amy', 'Allen', 'Alice', 'James', 'Sara', 'Mia'],\n",
    "'Subject':['History','English','Geography','German','History', 'German', 'English']})\n",
    "\n",
    "second = pd.DataFrame(\n",
    "{'ID':[101,102,103,104,105,108],\n",
    "'City': ['Delhi', 'Mumbai', 'Delhi', 'Chennai', 'Hyderabad','Delhi'],\n",
    "'Subject_Score':[89,78,77,87,87,84]})"
   ]
  },
  {
   "cell_type": "code",
   "execution_count": 42,
   "metadata": {},
   "outputs": [
    {
     "name": "stdout",
     "output_type": "stream",
     "text": [
      "    ID Candidate_Name    Subject\n",
      "0  101           Alex    History\n",
      "1  102            Amy    English\n",
      "2  103          Allen  Geography\n",
      "3  104          Alice     German\n",
      "4  105          James    History\n",
      "5  106           Sara     German\n",
      "6  107            Mia    English\n"
     ]
    }
   ],
   "source": [
    "print(first)"
   ]
  },
  {
   "cell_type": "code",
   "execution_count": 43,
   "metadata": {},
   "outputs": [
    {
     "name": "stdout",
     "output_type": "stream",
     "text": [
      "    ID       City  Subject_Score\n",
      "0  101      Delhi             89\n",
      "1  102     Mumbai             78\n",
      "2  103      Delhi             77\n",
      "3  104    Chennai             87\n",
      "4  105  Hyderabad             87\n",
      "5  108      Delhi             84\n"
     ]
    }
   ],
   "source": [
    "print(second)"
   ]
  },
  {
   "cell_type": "code",
   "execution_count": 44,
   "metadata": {},
   "outputs": [
    {
     "name": "stdout",
     "output_type": "stream",
     "text": [
      "    ID Candidate_Name    Subject       City  Subject_Score\n",
      "0  101           Alex    History      Delhi             89\n",
      "1  102            Amy    English     Mumbai             78\n",
      "2  103          Allen  Geography      Delhi             77\n",
      "3  104          Alice     German    Chennai             87\n",
      "4  105          James    History  Hyderabad             87\n",
      "5  108            NaN        NaN      Delhi             84\n"
     ]
    }
   ],
   "source": [
    "join=pd.merge(first,second, on=['ID'], how='right')\n",
    "print(join)"
   ]
  },
  {
   "cell_type": "markdown",
   "metadata": {},
   "source": [
    "### 19. Use the following data to plot a pie chart and annotate the percentage sales"
   ]
  },
  {
   "cell_type": "markdown",
   "metadata": {},
   "source": [
    "<table>\n",
    "    <tr>\n",
    "        <th>City</th>\n",
    "        <th>Sales</th>\n",
    "    </tr>\n",
    "    <tr>\n",
    "        <td>Delhi</td>\n",
    "        <td>890</td>\n",
    "    </tr>\n",
    "    <tr>\n",
    "        <td>Mumbai</td>\n",
    "        <td>784</td>\n",
    "    </tr>\n",
    "    <tr>\n",
    "        <td>Delhi</td>\n",
    "        <td>775</td>\n",
    "    </tr>\n",
    "    <tr>\n",
    "        <td>Chennai</td>\n",
    "        <td>873</td>\n",
    "    </tr>\n",
    "    <tr>\n",
    "        <td>Hyderabad</td>\n",
    "        <td>387</td>\n",
    "    </tr>\n",
    "        <td>Delhi</td>\n",
    "        <td>684</td>\n",
    "\n",
    "    </tr>\n",
    "</table>"
   ]
  },
  {
   "cell_type": "code",
   "execution_count": 47,
   "metadata": {},
   "outputs": [
    {
     "data": {
      "image/png": "[encoded data removed]",
      "text/plain": [
       "<Figure size 640x480 with 1 Axes>"
      ]
     },
     "metadata": {},
     "output_type": "display_data"
    }
   ],
   "source": [
    "import matplotlib.pyplot as plt\n",
    "\n",
    "sales = np.array([890, 784,775, 873, 387, 684])\n",
    "city = ['Delhi','Mumbai','Delhi','Chennai',\"Hyderabad\",\"Delhi\"]\n",
    "\n",
    "plt.pie(sales,labels = city, autopct= '%1.2f%%' )\n",
    "plt.title('Percentage sales')\n",
    "plt.show()"
   ]
  },
  {
   "cell_type": "markdown",
   "metadata": {},
   "source": [
    "### 20. Use the data created in question 19, to do the following:\n",
    "Calculate minimum, maximum and average sales for each origin"
   ]
  },
  {
   "cell_type": "code",
   "execution_count": 48,
   "metadata": {},
   "outputs": [
    {
     "name": "stdout",
     "output_type": "stream",
     "text": [
      "Minimum sales by city:\n",
      "            Sales\n",
      "City            \n",
      "Chennai      873\n",
      "Delhi        684\n",
      "Hyderabad    387\n",
      "Mumbai       784\n",
      "\n",
      "Maximum sales by city:\n",
      "            Sales\n",
      "City            \n",
      "Chennai      873\n",
      "Delhi        890\n",
      "Hyderabad    387\n",
      "Mumbai       784\n",
      "\n",
      "Average sales by city:\n",
      "            Sales\n",
      "City            \n",
      "Chennai    873.0\n",
      "Delhi      783.0\n",
      "Hyderabad  387.0\n",
      "Mumbai     784.0\n"
     ]
    }
   ],
   "source": [
    "\n",
    "sales = pd.DataFrame({'City': ['Delhi', 'Mumbai', 'Delhi', 'Chennai', 'Hyderabad', 'Delhi'],\n",
    "                      'Sales': [890, 784, 775, 873, 387, 684]})\n",
    "salescity = sales.groupby('City')\n",
    "\n",
    "min_sales = salescity.min()\n",
    "max_sales = salescity.max()\n",
    "avg_sales = salescity.mean()\n",
    "\n",
    "print(\"Minimum sales by city:\\n\", min_sales)\n",
    "print(\"\\nMaximum sales by city:\\n\", max_sales)\n",
    "print(\"\\nAverage sales by city:\\n\", avg_sales)\n"
   ]
  }
 ],
 "metadata": {
  "kernelspec": {
   "display_name": "Python 3",
   "language": "python",
   "name": "python3"
  },
  "language_info": {
   "codemirror_mode": {
    "name": "ipython",
    "version": 3
   },
   "file_extension": ".py",
   "mimetype": "text/x-python",
   "name": "python",
   "nbconvert_exporter": "python",
   "pygments_lexer": "ipython3",
   "version": "3.11.4"
  }
 },
 "nbformat": 4,
 "nbformat_minor": 2
}
