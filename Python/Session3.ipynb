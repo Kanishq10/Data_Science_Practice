{
 "cells": [
  {
   "cell_type": "markdown",
   "metadata": {},
   "source": [
    "# Control Statements"
   ]
  },
  {
   "cell_type": "code",
   "execution_count": 1,
   "metadata": {},
   "outputs": [
    {
     "name": "stdout",
     "output_type": "stream",
     "text": [
      "it is a number\n"
     ]
    }
   ],
   "source": [
    "n= int(input(\"Enter Number\"))\n",
    "if n<30:\n",
    "    print(\"Number is less than 30 \")\n",
    "elif n<70:\n",
    "    print(\"The number is greater than 30 and less than 70\")\n",
    "elif type(n)== int:\n",
    "    print(\"it is a number\")\n",
    "else:\n",
    "    print(\"Nothing\")\n"
   ]
  },
  {
   "cell_type": "code",
   "execution_count": 2,
   "metadata": {},
   "outputs": [
    {
     "name": "stdout",
     "output_type": "stream",
     "text": [
      "greater than 70\n"
     ]
    }
   ],
   "source": [
    "#Nested\n",
    "x=12\n",
    "if type(n)==int:\n",
    "    if n<30:\n",
    "        print(\"Number is less than 30 \")\n",
    "    elif n<70:\n",
    "        print(\"The number is greater than 30 and less than 70\")\n",
    "    else:\n",
    "        print(\"greater than 70\")\n",
    "else:\n",
    "    print(\"Other\")"
   ]
  },
  {
   "cell_type": "markdown",
   "metadata": {},
   "source": [
    "### For Loop"
   ]
  },
  {
   "cell_type": "code",
   "execution_count": 4,
   "metadata": {},
   "outputs": [
    {
     "data": {
      "text/plain": [
       "[3, 4, 5, 6, 7, 8, 9, 10, 11, 12, 13, 14, 15, 16, 17, 18, 19, 20]"
      ]
     },
     "execution_count": 4,
     "metadata": {},
     "output_type": "execute_result"
    }
   ],
   "source": [
    "list(range(3,21))   #range(lower bound, upper bound)"
   ]
  },
  {
   "cell_type": "code",
   "execution_count": 6,
   "metadata": {},
   "outputs": [
    {
     "data": {
      "text/plain": [
       "[3, 6, 9, 12, 15, 18]"
      ]
     },
     "execution_count": 6,
     "metadata": {},
     "output_type": "execute_result"
    }
   ],
   "source": [
    "list(range(3,21,3))  #range(lower bound, upper bound, step) "
   ]
  },
  {
   "cell_type": "code",
   "execution_count": 14,
   "metadata": {},
   "outputs": [
    {
     "name": "stdout",
     "output_type": "stream",
     "text": [
      "3 4 5 6 7 8 9 10 11 12 13 14 15 16 17 18 19 20 "
     ]
    }
   ],
   "source": [
    "for i in range(3,21):\n",
    "    print(i,end=\" \")"
   ]
  },
  {
   "cell_type": "code",
   "execution_count": 4,
   "metadata": {},
   "outputs": [
    {
     "name": "stdout",
     "output_type": "stream",
     "text": [
      "132 34 34 6 6 46 4 64 "
     ]
    }
   ],
   "source": [
    "for x in [3,132,3,34,34,5,343,6,6,7,7,75,46,4,64]:\n",
    "    if(x%2==0):\n",
    "       print(x,end=\" \")"
   ]
  },
  {
   "cell_type": "code",
   "execution_count": 9,
   "metadata": {},
   "outputs": [
    {
     "data": {
      "text/plain": [
       "[7, -9, -11, -13, 3, -3, 9]"
      ]
     },
     "execution_count": 9,
     "metadata": {},
     "output_type": "execute_result"
    }
   ],
   "source": [
    "e=[]\n",
    "a=[7,8,-9,-11,-13,3,6,8,-3,9]\n",
    "\n",
    "for x in a:\n",
    "    if x%2!=0:\n",
    "        e.append(x)\n",
    "\n",
    "e"
   ]
  },
  {
   "cell_type": "markdown",
   "metadata": {},
   "source": [
    "### While"
   ]
  },
  {
   "cell_type": "code",
   "execution_count": 10,
   "metadata": {},
   "outputs": [
    {
     "name": "stdout",
     "output_type": "stream",
     "text": [
      "0\n",
      "1\n",
      "2\n",
      "3\n",
      "4\n",
      "5\n"
     ]
    }
   ],
   "source": [
    "i=0\n",
    "\n",
    "while i<=5:\n",
    "    print(i)\n",
    "    i+=1"
   ]
  },
  {
   "cell_type": "code",
   "execution_count": 14,
   "metadata": {},
   "outputs": [
    {
     "name": "stdout",
     "output_type": "stream",
     "text": [
      "7 6 9 3 Bye, I am going\n"
     ]
    }
   ],
   "source": [
    "for i in (7,6,9,3,'python',8.9,3.4):\n",
    "    if(type(i)==str):\n",
    "        print(\"Bye, I am going\")\n",
    "        break\n",
    "    print(i,end=\" \")"
   ]
  },
  {
   "cell_type": "code",
   "execution_count": 18,
   "metadata": {},
   "outputs": [
    {
     "name": "stdout",
     "output_type": "stream",
     "text": [
      "7 6 9 3 8.9 3.4 "
     ]
    }
   ],
   "source": [
    "for i in (7,6,9,3,'python',8.9,3.4):  \n",
    "    if(type(i)==str):\n",
    "        continue\n",
    "    print(i,end=\" \")"
   ]
  },
  {
   "cell_type": "code",
   "execution_count": 20,
   "metadata": {},
   "outputs": [
    {
     "data": {
      "text/plain": [
       "[49, 36, 4, 16, 9, 64, 36]"
      ]
     },
     "execution_count": 20,
     "metadata": {},
     "output_type": "execute_result"
    }
   ],
   "source": [
    "l1= [7,6,2,4,3,8,6]\n",
    "i=0\n",
    "while i<len(l1):\n",
    "    l1[i]=l1[i]**2\n",
    "    i+=1\n",
    "\n",
    "l1\n",
    "    "
   ]
  },
  {
   "cell_type": "code",
   "execution_count": 21,
   "metadata": {},
   "outputs": [
    {
     "data": {
      "text/plain": [
       "{'k1': [5, 6, 7, [8, 9]],\n",
       " 'k2': {3, 5, 6, 9, 10},\n",
       " 'k3': (3, 7, 3, 2, 8),\n",
       " 'k4': {'name': 'Rhoit', 'score': 103}}"
      ]
     },
     "execution_count": 21,
     "metadata": {},
     "output_type": "execute_result"
    }
   ],
   "source": [
    "d2= {'k1': [5,6,7,[8,9]] , 'k2':{3,5,6,9,10} , 'k3': (3,7,3,2,8), 'k4': {'name':'Rhoit', 'score':103}}\n",
    "d2 "
   ]
  },
  {
   "cell_type": "code",
   "execution_count": 24,
   "metadata": {},
   "outputs": [
    {
     "data": {
      "text/plain": [
       "[3, 7, 3, 2, 8]"
      ]
     },
     "execution_count": 24,
     "metadata": {},
     "output_type": "execute_result"
    }
   ],
   "source": [
    "out=[]\n",
    "out.extend(d2['k3'])\n",
    "out"
   ]
  },
  {
   "cell_type": "code",
   "execution_count": 25,
   "metadata": {},
   "outputs": [
    {
     "data": {
      "text/plain": [
       "[3, 7, 3, 2, 8]"
      ]
     },
     "execution_count": 25,
     "metadata": {},
     "output_type": "execute_result"
    }
   ],
   "source": [
    "out1=[]\n",
    "for x in d2['k3']:\n",
    "    out1.append(x)\n",
    "out1"
   ]
  },
  {
   "cell_type": "code",
   "execution_count": 28,
   "metadata": {},
   "outputs": [
    {
     "data": {
      "text/plain": [
       "[3, 7, 3, 2, 8]"
      ]
     },
     "execution_count": 28,
     "metadata": {},
     "output_type": "execute_result"
    }
   ],
   "source": [
    "list(d2['k3'])"
   ]
  },
  {
   "cell_type": "code",
   "execution_count": 31,
   "metadata": {},
   "outputs": [
    {
     "name": "stdout",
     "output_type": "stream",
     "text": [
      "* \n",
      "* * \n",
      "* * * \n",
      "* * * * \n",
      "* * * * * \n",
      "* * * * * * \n",
      "* * * * * * * \n",
      "* * * * * * * * \n",
      "* * * * * * * * * \n",
      "* * * * * * * * * * \n"
     ]
    }
   ],
   "source": [
    "for i in range(1,11):\n",
    "    for j in range(i):\n",
    "        print('*',end=\" \")\n",
    "    print()"
   ]
  }
 ],
 "metadata": {
  "kernelspec": {
   "display_name": "Python 3",
   "language": "python",
   "name": "python3"
  },
  "language_info": {
   "codemirror_mode": {
    "name": "ipython",
    "version": 3
   },
   "file_extension": ".py",
   "mimetype": "text/x-python",
   "name": "python",
   "nbconvert_exporter": "python",
   "pygments_lexer": "ipython3",
   "version": "3.11.4"
  },
  "orig_nbformat": 4
 },
 "nbformat": 4,
 "nbformat_minor": 2
}
