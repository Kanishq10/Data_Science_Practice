{
 "cells": [
  {
   "cell_type": "markdown",
   "metadata": {},
   "source": [
    "### Chi-Square test"
   ]
  },
  {
   "cell_type": "code",
   "execution_count": 6,
   "metadata": {},
   "outputs": [
    {
     "name": "stdout",
     "output_type": "stream",
     "text": [
      "chi_square_test_statistic is:  0.7582133628645265 P_value is:  0.684472588255113\n"
     ]
    }
   ],
   "source": [
    "observed_data=[73,38,18]\n",
    "expected_data=[77.4,36.12,15.48]\n",
    "\n",
    "chi_square_test_statistic,p_value= stats.chisquare(observed_data,expected_data)\n",
    "\n",
    "print(\"chi_square_test_statistic is: \",chi_square_test_statistic,\"P_value is: \",p_value)\n",
    "#p value should be greater than significance value for accepted\n"
   ]
  },
  {
   "cell_type": "code",
   "execution_count": 14,
   "metadata": {},
   "outputs": [
    {
     "name": "stdout",
     "output_type": "stream",
     "text": [
      "[1537.25, 1537.25, 1537.25, 1537.25, 1537.25, 1537.25, 1537.25, 1537.25, 1537.25, 1537.25, 1537.25, 1537.25]\n",
      "chi_square_test_statistic is:  0.7582133628645265 P_value is:  1.78545252783034e-11\n"
     ]
    }
   ],
   "source": [
    "observed_data=[1610,1585,1649,1590,1540,1397,1410,1350,1495,1564,1602,1655]\n",
    "expected_data=[1537.25]*12\n",
    "print(expected_data)\n",
    "chi_value,p_value=stats.chisquare(observed_data,expected_data)\n",
    "print(\"chi_square_test_statistic is: \",chi_square_test_statistic,\"P_value is: \",p_value)\n",
    "# p value is negative because it is e^-11 , so it is very negative and small "
   ]
  },
  {
   "cell_type": "markdown",
   "metadata": {},
   "source": [
    "### Anova"
   ]
  },
  {
   "cell_type": "code",
   "execution_count": 4,
   "metadata": {},
   "outputs": [
    {
     "data": {
      "text/plain": [
       "F_onewayResult(statistic=1.2775193798449611, pvalue=0.3091491285972755)"
      ]
     },
     "execution_count": 4,
     "metadata": {},
     "output_type": "execute_result"
    }
   ],
   "source": [
    "from scipy import stats\n",
    "from scipy.stats import f_oneway\n",
    "\n",
    "p1=[8,6,7,5,9]\n",
    "p2=[6,4,6,5,6,7]\n",
    "p3=[6,7,5,6,7,8,5]\n",
    "p4=[5,6,6,7,6,7]\n",
    "\n",
    "f_oneway(p1,p2,p3,p4)"
   ]
  },
  {
   "cell_type": "markdown",
   "metadata": {},
   "source": [
    "#### if p-value is less than significance level ,then null hypothesis will be rejected ,otherwise accept it"
   ]
  }
 ],
 "metadata": {
  "kernelspec": {
   "display_name": "Python 3",
   "language": "python",
   "name": "python3"
  },
  "language_info": {
   "codemirror_mode": {
    "name": "ipython",
    "version": 3
   },
   "file_extension": ".py",
   "mimetype": "text/x-python",
   "name": "python",
   "nbconvert_exporter": "python",
   "pygments_lexer": "ipython3",
   "version": "3.11.5"
  },
  "orig_nbformat": 4
 },
 "nbformat": 4,
 "nbformat_minor": 2
}
